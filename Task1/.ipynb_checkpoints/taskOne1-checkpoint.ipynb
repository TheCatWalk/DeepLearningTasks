{
 "cells": [
  {
   "cell_type": "code",
   "execution_count": null,
   "id": "1a5ba45b-257f-473a-acdc-581524991e6f",
   "metadata": {},
   "outputs": [],
   "source": [
    "# Cell 1\n",
    "import tensorflow as tf\n",
    "import datetime\n",
    "from tensorboard import notebook\n",
    "\n",
    "# Check TensorFlow version\n",
    "print(\"TensorFlow version:\", tf.__version__)\n"
   ]
  },
  {
   "cell_type": "code",
   "execution_count": null,
   "id": "82a00ab3-0bcf-44b3-9101-6cdfd2671496",
   "metadata": {},
   "outputs": [],
   "source": [
    "# Cell 2\n",
    "# Constants with float32 type\n",
    "const_a = tf.constant(2.0, dtype=tf.float32, name='const_a')\n",
    "const_b = tf.constant(3.0, dtype=tf.float32, name='const_b')\n",
    "\n",
    "# Variables with float32 type\n",
    "var_x = tf.Variable(5.0, dtype=tf.float32, name='var_x')\n",
    "var_y = tf.Variable(7.0, dtype=tf.float32, name='var_y')\n",
    "\n",
    "# Set up a log directory for TensorBoard\n",
    "logdir = \"logs/operations/\" + datetime.datetime.now().strftime(\"%Y%m%d-%H%M%S\")\n",
    "writer = tf.summary.create_file_writer(logdir)\n",
    "\n",
    "print(\"Constants, Variables, and TensorBoard writer set up.\")\n"
   ]
  },
  {
   "cell_type": "code",
   "execution_count": null,
   "id": "320de394-d8c1-4e8b-9c2d-90d76f160ac9",
   "metadata": {},
   "outputs": [],
   "source": [
    "# Cell 3\n",
    "# Operations\n",
    "op1 = tf.add(const_a, const_b)\n",
    "op2 = tf.subtract(var_x, var_y)\n",
    "op3 = tf.multiply(const_a, var_x)\n",
    "op4 = tf.divide(var_y, const_b)\n",
    "op5 = tf.pow(var_x, const_a)\n",
    "op6 = tf.math.mod(var_y, const_a)\n",
    "op7 = tf.abs(tf.negative(var_x))\n",
    "op8 = tf.sqrt(tf.cast(var_y, tf.float32))\n",
    "op9 = tf.square(const_b)\n",
    "op10 = tf.maximum(var_x, var_y)\n",
    "\n",
    "# Print each operation result\n",
    "print(\"Addition:\", op1.numpy())\n",
    "print(\"Subtraction:\", op2.numpy())\n",
    "print(\"Multiplication:\", op3.numpy())\n",
    "print(\"Division:\", op4.numpy())\n",
    "print(\"Power:\", op5.numpy())\n",
    "print(\"Modulus:\", op6.numpy())\n",
    "print(\"Absolute:\", op7.numpy())\n",
    "print(\"Square Root:\", op8.numpy())\n",
    "print(\"Square:\", op9.numpy())\n",
    "print(\"Maximum:\", op10.numpy())"
   ]
  },
  {
   "cell_type": "code",
   "execution_count": null,
   "id": "1226ecd4-e77b-4c67-9366-a3baa05e77a8",
   "metadata": {},
   "outputs": [],
   "source": [
    "# Cell 3\n",
    "# Iterative execution of operations\n",
    "num_iterations = 50\n",
    "for step in range(num_iterations):\n",
    "    # Varying the input values\n",
    "    var_x.assign(tf.random.uniform(shape=[], minval=0, maxval=10, dtype=tf.float32))\n",
    "    var_y.assign(tf.random.uniform(shape=[], minval=0, maxval=10, dtype=tf.float32))\n",
    "\n",
    "    # Operations\n",
    "    op1 = tf.add(const_a, const_b)\n",
    "    op2 = tf.subtract(var_x, var_y)\n",
    "    op3 = tf.multiply(const_a, var_x)\n",
    "    op4 = tf.divide(var_y, const_b)\n",
    "    op5 = tf.pow(var_x, const_a)\n",
    "    op6 = tf.math.mod(var_y, const_a)\n",
    "    op7 = tf.abs(tf.negative(var_x))\n",
    "    op8 = tf.sqrt(tf.cast(var_y, tf.float32))\n",
    "    op9 = tf.square(const_b)\n",
    "    op10 = tf.maximum(var_x, var_y)\n",
    "\n",
    "    # Log the results for TensorBoard\n",
    "    with writer.as_default():\n",
    "        tf.summary.scalar('Addition', op1, step=step)\n",
    "        tf.summary.scalar('Subtraction', op2, step=step)\n",
    "        tf.summary.scalar('Multiplication', op3, step=step)\n",
    "        tf.summary.scalar('Division', op4, step=step)\n",
    "        tf.summary.scalar('Power', op5, step=step)\n",
    "        tf.summary.scalar('Modulus', op6, step=step)\n",
    "        tf.summary.scalar('Absolute', op7, step=step)\n",
    "        tf.summary.scalar('Square Root', op8, step=step)\n",
    "        tf.summary.scalar('Square', op9, step=step)\n",
    "        tf.summary.scalar('Maximum', op10, step=step)\n",
    "\n",
    "    # Optional: print to see the progress\n",
    "    if step % 10 == 0:\n",
    "        print(f\"Step {step}: Operations executed and logged.\")\n"
   ]
  },
  {
   "cell_type": "code",
   "execution_count": null,
   "id": "d9c3ba4d-bdd3-4121-8498-cb2ffc611a4b",
   "metadata": {},
   "outputs": [],
   "source": [
    "# Cell 4\n",
    "%load_ext tensorboard\n",
    "%tensorboard --logdir logs/operations --port 6007\n"
   ]
  },
  {
   "cell_type": "code",
   "execution_count": null,
   "id": "d3bb3a59-2ca4-4e55-b7af-6f71781f1f10",
   "metadata": {},
   "outputs": [],
   "source": []
  }
 ],
 "metadata": {
  "kernelspec": {
   "display_name": "Python 3 (ipykernel)",
   "language": "python",
   "name": "python3"
  },
  "language_info": {
   "codemirror_mode": {
    "name": "ipython",
    "version": 3
   },
   "file_extension": ".py",
   "mimetype": "text/x-python",
   "name": "python",
   "nbconvert_exporter": "python",
   "pygments_lexer": "ipython3",
   "version": "3.9.18"
  }
 },
 "nbformat": 4,
 "nbformat_minor": 5
}
