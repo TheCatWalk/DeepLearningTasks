{
 "cells": [
  {
   "cell_type": "code",
   "execution_count": 1,
   "id": "1a5ba45b-257f-473a-acdc-581524991e6f",
   "metadata": {},
   "outputs": [
    {
     "name": "stdout",
     "output_type": "stream",
     "text": [
      "TensorFlow version: 2.10.0\n"
     ]
    }
   ],
   "source": [
    "# Cell 1\n",
    "import tensorflow as tf\n",
    "import datetime\n",
    "from tensorboard import notebook\n",
    "\n",
    "# Check TensorFlow version\n",
    "print(\"TensorFlow version:\", tf.__version__)\n"
   ]
  },
  {
   "cell_type": "code",
   "execution_count": 2,
   "id": "09e913f9-5e5f-4739-9a1e-d10d5796f312",
   "metadata": {},
   "outputs": [
    {
     "name": "stdout",
     "output_type": "stream",
     "text": [
      "Constants, Variables, and TensorBoard writer set up.\n"
     ]
    }
   ],
   "source": [
    "# Cell 2\n",
    "# Constants with float32 type\n",
    "const_a = tf.constant(2.0, dtype=tf.float32, name='const_a')\n",
    "const_b = tf.constant(3.0, dtype=tf.float32, name='const_b')\n",
    "\n",
    "# Variables with float32 type\n",
    "var_x = tf.Variable(5.0, dtype=tf.float32, name='var_x')\n",
    "var_y = tf.Variable(7.0, dtype=tf.float32, name='var_y')\n",
    "\n",
    "# Set up a log directory for TensorBoard\n",
    "logdir = \"logs/operations/\" + datetime.datetime.now().strftime(\"%Y%m%d-%H%M%S\")\n",
    "writer = tf.summary.create_file_writer(logdir)\n",
    "\n",
    "print(\"Constants, Variables, and TensorBoard writer set up.\")\n"
   ]
  },
  {
   "cell_type": "code",
   "execution_count": 3,
   "id": "320de394-d8c1-4e8b-9c2d-90d76f160ac9",
   "metadata": {},
   "outputs": [
    {
     "name": "stdout",
     "output_type": "stream",
     "text": [
      "Addition: 5.0\n",
      "Subtraction: -2.0\n",
      "Multiplication: 10.0\n",
      "Division: 2.3333333\n",
      "Power: 25.0\n",
      "Modulus: 1.0\n",
      "Absolute: 5.0\n",
      "Square Root: 2.6457512\n",
      "Square: 9.0\n",
      "Maximum: 7.0\n"
     ]
    }
   ],
   "source": [
    "# Cell 3\n",
    "# Operations\n",
    "op1 = tf.add(const_a, const_b)\n",
    "op2 = tf.subtract(var_x, var_y)\n",
    "op3 = tf.multiply(const_a, var_x)\n",
    "op4 = tf.divide(var_y, const_b)\n",
    "op5 = tf.pow(var_x, const_a)\n",
    "op6 = tf.math.mod(var_y, const_a)\n",
    "op7 = tf.abs(tf.negative(var_x))\n",
    "op8 = tf.sqrt(tf.cast(var_y, tf.float32))\n",
    "op9 = tf.square(const_b)\n",
    "op10 = tf.maximum(var_x, var_y)\n",
    "\n",
    "# Print each operation result\n",
    "print(\"Addition:\", op1.numpy())\n",
    "print(\"Subtraction:\", op2.numpy())\n",
    "print(\"Multiplication:\", op3.numpy())\n",
    "print(\"Division:\", op4.numpy())\n",
    "print(\"Power:\", op5.numpy())\n",
    "print(\"Modulus:\", op6.numpy())\n",
    "print(\"Absolute:\", op7.numpy())\n",
    "print(\"Square Root:\", op8.numpy())\n",
    "print(\"Square:\", op9.numpy())\n",
    "print(\"Maximum:\", op10.numpy())\n"
   ]
  },
  {
   "cell_type": "code",
   "execution_count": 4,
   "id": "1226ecd4-e77b-4c67-9366-a3baa05e77a8",
   "metadata": {},
   "outputs": [
    {
     "name": "stdout",
     "output_type": "stream",
     "text": [
      "Step 0: Operations executed and logged.\n",
      "Step 10: Operations executed and logged.\n",
      "Step 20: Operations executed and logged.\n",
      "Step 30: Operations executed and logged.\n",
      "Step 40: Operations executed and logged.\n"
     ]
    }
   ],
   "source": [
    "# Cell 4\n",
    "# Iterative execution of operations\n",
    "num_iterations = 50\n",
    "for step in range(num_iterations):\n",
    "    # Varying the input values\n",
    "    var_x.assign(tf.random.uniform(shape=[], minval=0, maxval=10, dtype=tf.float32))\n",
    "    var_y.assign(tf.random.uniform(shape=[], minval=0, maxval=10, dtype=tf.float32))\n",
    "\n",
    "    # Operations\n",
    "    op1 = tf.add(const_a, const_b)\n",
    "    op2 = tf.subtract(var_x, var_y)\n",
    "    op3 = tf.multiply(const_a, var_x)\n",
    "    op4 = tf.divide(var_y, const_b)\n",
    "    op5 = tf.pow(var_x, const_a)\n",
    "    op6 = tf.math.mod(var_y, const_a)\n",
    "    op7 = tf.abs(tf.negative(var_x))\n",
    "    op8 = tf.sqrt(tf.cast(var_y, tf.float32))\n",
    "    op9 = tf.square(const_b)\n",
    "    op10 = tf.maximum(var_x, var_y)\n",
    "\n",
    "    # Log the results for TensorBoard\n",
    "    with writer.as_default():\n",
    "        tf.summary.scalar('Addition', op1, step=step)\n",
    "        tf.summary.scalar('Subtraction', op2, step=step)\n",
    "        tf.summary.scalar('Multiplication', op3, step=step)\n",
    "        tf.summary.scalar('Division', op4, step=step)\n",
    "        tf.summary.scalar('Power', op5, step=step)\n",
    "        tf.summary.scalar('Modulus', op6, step=step)\n",
    "        tf.summary.scalar('Absolute', op7, step=step)\n",
    "        tf.summary.scalar('Square Root', op8, step=step)\n",
    "        tf.summary.scalar('Square', op9, step=step)\n",
    "        tf.summary.scalar('Maximum', op10, step=step)\n",
    "\n",
    "    # Optional: print to see the progress\n",
    "    if step % 10 == 0:\n",
    "        print(f\"Step {step}: Operations executed and logged.\")"
   ]
  },
  {
   "cell_type": "code",
   "execution_count": 23,
   "id": "a497bd5d-0967-4bed-a0f3-b1d5acc8e69d",
   "metadata": {},
   "outputs": [
    {
     "data": {
      "text/html": [
       "\n",
       "      <iframe id=\"tensorboard-frame-b80b8e5beaee3fbd\" width=\"100%\" height=\"800\" frameborder=\"0\">\n",
       "      </iframe>\n",
       "      <script>\n",
       "        (function() {\n",
       "          const frame = document.getElementById(\"tensorboard-frame-b80b8e5beaee3fbd\");\n",
       "          const url = new URL(\"/\", window.location);\n",
       "          const port = 8008;\n",
       "          if (port) {\n",
       "            url.port = port;\n",
       "          }\n",
       "          frame.src = url;\n",
       "        })();\n",
       "      </script>\n",
       "    "
      ],
      "text/plain": [
       "<IPython.core.display.HTML object>"
      ]
     },
     "metadata": {},
     "output_type": "display_data"
    }
   ],
   "source": [
    "%reload_ext tensorboard\n",
    "%tensorboard --logdir logs/operations --port 8008"
   ]
  },
  {
   "cell_type": "code",
   "execution_count": 20,
   "id": "d3bb3a59-2ca4-4e55-b7af-6f71781f1f10",
   "metadata": {},
   "outputs": [
    {
     "name": "stdout",
     "output_type": "stream",
     "text": [
      "No TensorBoard process found on port 6006.\n"
     ]
    }
   ],
   "source": [
    "import os\n",
    "import signal\n",
    "\n",
    "# Function to terminate TensorBoard\n",
    "def terminate_tensorboard(port):\n",
    "    try:\n",
    "        # Find process using the specific port\n",
    "        result = os.popen(f'lsof -t -i tcp:{port}').read()\n",
    "        if result:\n",
    "            pid = int(result.strip())\n",
    "            os.kill(pid, signal.SIGKILL)\n",
    "            print(f\"TensorBoard on port {port} terminated.\")\n",
    "        else:\n",
    "            print(f\"No TensorBoard process found on port {port}.\")\n",
    "    except Exception as e:\n",
    "        print(f\"Error terminating TensorBoard: {e}\")\n",
    "\n",
    "# Example of usage\n",
    "terminate_tensorboard(6006)"
   ]
  }
 ],
 "metadata": {
  "kernelspec": {
   "display_name": "Python 3 (ipykernel)",
   "language": "python",
   "name": "python3"
  },
  "language_info": {
   "codemirror_mode": {
    "name": "ipython",
    "version": 3
   },
   "file_extension": ".py",
   "mimetype": "text/x-python",
   "name": "python",
   "nbconvert_exporter": "python",
   "pygments_lexer": "ipython3",
   "version": "3.9.18"
  }
 },
 "nbformat": 4,
 "nbformat_minor": 5
}
